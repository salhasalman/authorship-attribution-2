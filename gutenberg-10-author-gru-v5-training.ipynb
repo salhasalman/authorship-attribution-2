{
 "cells": [
  {
   "cell_type": "markdown",
   "metadata": {},
   "source": [
    "### Load Libraries"
   ]
  },
  {
   "cell_type": "code",
   "execution_count": 1,
   "metadata": {},
   "outputs": [],
   "source": [
    "from __future__ import unicode_literals, print_function, division\n",
    "\n",
    "import glob\n",
    "import math\n",
    "import matplotlib.pyplot as plt\n",
    "import matplotlib.ticker as ticker\n",
    "import numpy as np\n",
    "import os\n",
    "os.environ['CUDA_VISIBLE_DEVICES'] = '0,1'\n",
    "import pandas as pd\n",
    "import pickle\n",
    "import unicodedata\n",
    "import random\n",
    "import regex\n",
    "import spacy\n",
    "import string\n",
    "import sys\n",
    "np.set_printoptions(threshold=sys.maxsize)\n",
    "import time\n",
    "import timeit\n",
    "\n",
    "from tqdm import tqdm_notebook\n",
    "from apex import amp\n",
    "\n",
    "import torch\n",
    "import torch.nn as nn\n",
    "import torchtext\n",
    "from torch.utils.data import Dataset, DataLoader\n",
    "from torch.optim import Adam, RMSprop\n",
    "from torch.optim.lr_scheduler import ReduceLROnPlateau\n",
    "from torchtext.data import Field, BucketIterator, TabularDataset, Iterator\n",
    "\n",
    "seed = 42\n",
    "np.random.seed(seed)\n",
    "random.seed(seed)\n",
    "os.environ['PYTHONHASHSEED'] = str(seed)\n",
    "\n",
    "nlp = spacy.load('en_core_web_md')\n",
    "nlp.max_length = 2000000"
   ]
  },
  {
   "cell_type": "code",
   "execution_count": 2,
   "metadata": {},
   "outputs": [],
   "source": [
    "USE_AMP = True\n",
    "DEVICE = torch.device('cuda:0' if USE_AMP else 'cpu')\n",
    "MODEL_NAME = 'gru-v5-840b300d'\n",
    "MODEL_PATH = f'./saved-data/models/{MODEL_NAME}-state-dict.pt'\n",
    "MODEL_PATH_FINAL = f'./saved-data/models/{MODEL_NAME}-final-state-dict.pt'\n",
    "GENERATE_SAMPLES = False\n",
    "SAMPLE_SIZE = 200\n",
    "AUTHORS = [\n",
    "    'Andrew Lang',\n",
    "    'Anthony Trollope',\n",
    "    'Baronness Orczy',\n",
    "    'Benjamin Disraeli',\n",
    "    'Bret Harte',\n",
    "    'Charles Darwin',\n",
    "    'Charles Dickens',\n",
    "    'Charles Kingsley',\n",
    "    'Charlotte Mary Yonge',\n",
    "    'Daniel Defoe',\n",
    "]"
   ]
  },
  {
   "cell_type": "markdown",
   "metadata": {},
   "source": [
    "### Generate Labeled Samples"
   ]
  },
  {
   "cell_type": "code",
   "execution_count": 3,
   "metadata": {},
   "outputs": [],
   "source": [
    "if GENERATE_SAMPLES:\n",
    "    paths = glob.glob('labeled-text/*')\n",
    "    paths.sort()\n",
    "    all_titles = [fn.split('/')[-1].split('___')[1][:-4] for fn in paths]\n",
    "    all_authors = [fn.split('/')[-1].split('___')[0] for fn in paths]\n",
    "    all_texts = [\n",
    "        open(path, errors='ignore', mode='r')\\\n",
    "        .read().replace('\\n', ' ').replace('\\r', '')\n",
    "             for path in paths\n",
    "    ]\n",
    "    \n",
    "    author_texts = {author:{'texts': [], 'train': [], 'val': [], 'test': []} for author in AUTHORS}\n",
    "    for author, text in zip(all_authors, all_texts):\n",
    "        if author in list(author_texts.keys()):\n",
    "            author_texts[author]['texts'].append(text)\n",
    "    \n",
    "    train_df = pd.DataFrame(columns=['text', 'author'])\n",
    "    val_df = pd.DataFrame(columns=['text', 'author'])\n",
    "    test_df = pd.DataFrame(columns=['text', 'author'])\n",
    "    for author in tqdm_notebook(AUTHORS):\n",
    "        num_of_texts = len(author_texts[author]['texts'])\n",
    "        train_count = int(0.8 * num_of_texts)\n",
    "        val_count = int(0.5 * (num_of_texts - train_count))\n",
    "        test_count = num_of_texts - train_count - val_count\n",
    "        \n",
    "        author_texts[author]['train'] = author_texts[author]['texts'][:train_count]\n",
    "        author_texts[author]['val'] = author_texts[author]['texts'][train_count:train_count+val_count]\n",
    "        author_texts[author]['test'] = author_texts[author]['texts'][train_count+val_count:]\n",
    "        \n",
    "        for doc in nlp.pipe(author_texts[author]['train'], disable=['tagger', 'parser', 'ner']):\n",
    "            train_df = pd.concat([train_df] + [pd.DataFrame(\n",
    "                    [[''.join(token.text_with_ws for token in doc[idx:idx+SAMPLE_SIZE]), author]], columns=['text', 'author']\n",
    "                ) for idx in range(0, len(doc)-SAMPLE_SIZE, SAMPLE_SIZE)], ignore_index=True)\n",
    "        for doc in nlp.pipe(author_texts[author]['val'], disable=['tagger', 'parser', 'ner']):\n",
    "            val_df = pd.concat([val_df] + [pd.DataFrame(\n",
    "                    [[''.join(token.text_with_ws for token in doc[idx:idx+SAMPLE_SIZE]), author]], columns=['text', 'author']\n",
    "                ) for idx in range(0, len(doc)-SAMPLE_SIZE, SAMPLE_SIZE)], ignore_index=True)\n",
    "        for doc in nlp.pipe(author_texts[author]['test'], disable=['tagger', 'parser', 'ner']):\n",
    "            test_df = pd.concat([test_df] + [pd.DataFrame(\n",
    "                    [[''.join(token.text_with_ws for token in doc[idx:idx+SAMPLE_SIZE]), author]], columns=['text', 'author']\n",
    "                ) for idx in range(0, len(doc)-SAMPLE_SIZE, SAMPLE_SIZE)], ignore_index=True)\n",
    "    \n",
    "    train_df.to_csv(f'saved-data/csv/{SAMPLE_SIZE}-token-train.csv', index=False)\n",
    "    val_df.to_csv(f'saved-data/csv/{SAMPLE_SIZE}-token-val.csv', index=False)\n",
    "    test_df.to_csv(f'saved-data/csv/{SAMPLE_SIZE}-token-test.csv', index=False)"
   ]
  },
  {
   "cell_type": "markdown",
   "metadata": {},
   "source": [
    "### Load Data"
   ]
  },
  {
   "cell_type": "code",
   "execution_count": 4,
   "metadata": {},
   "outputs": [],
   "source": [
    "def tokenizer(text):\n",
    "    return [tok.text for tok in nlp.tokenizer(text)]\n",
    "\n",
    "BATCH_SIZE = 128\n",
    "VAL_BATCH_SIZE = 128\n",
    "TEXT = Field(sequential=True, tokenize=tokenizer, lower=True, batch_first=True)\n",
    "LABEL = Field(sequential=False, batch_first=True)\n",
    "\n",
    "train_df = pd.read_csv(f'saved-data/csv/{SAMPLE_SIZE}-token-train.csv')\n",
    "val_df = pd.read_csv(f'saved-data/csv/{SAMPLE_SIZE}-token-val.csv')\n",
    "val_df = val_df.sample(n=5000)\n",
    "test_df = pd.read_csv(f'saved-data/csv/{SAMPLE_SIZE}-token-test.csv')\n",
    "\n",
    "train_td, val_td, test_td = TabularDataset.splits(\n",
    "    path='saved-data/csv/', train=f'{SAMPLE_SIZE}-token-train.csv',\n",
    "    validation=f'{SAMPLE_SIZE}-token-val.csv', test=f'{SAMPLE_SIZE}-token-test.csv',\n",
    "    format='csv', skip_header=True, fields=[('text', TEXT), ('label', LABEL)])\n",
    "\n",
    "TEXT.build_vocab(train_td, min_freq=5, vectors='glove.840B.300d')\n",
    "text_vocab = TEXT.vocab\n",
    "LABEL.build_vocab(train_td)\n",
    "label_vocab = LABEL.vocab\n",
    "\n",
    "train_iter, val_iter, test_iter = Iterator.splits(\n",
    "    (train_td, val_td, test_td),\n",
    "    sort_key=lambda x: len(x.text),\n",
    "    shuffle=True,\n",
    "    sort_within_batch=False,\n",
    "    batch_sizes=(BATCH_SIZE, VAL_BATCH_SIZE, VAL_BATCH_SIZE),\n",
    "    device=DEVICE)"
   ]
  },
  {
   "cell_type": "markdown",
   "metadata": {},
   "source": [
    "### Define Model"
   ]
  },
  {
   "cell_type": "code",
   "execution_count": 5,
   "metadata": {},
   "outputs": [],
   "source": [
    "class GruTextClassifier(nn.Module):\n",
    "    def __init__(self, vocab, hidden_size, num_layers, output_size, drop_prob, is_bidir):\n",
    "        super(GruTextClassifier, self).__init__()\n",
    "        \n",
    "        self.vocab_size = len(vocab)\n",
    "        self.embed_size = vocab.vectors.shape[1]\n",
    "        self.hidden_size = hidden_size\n",
    "        self.num_layers = num_layers\n",
    "        self.output_size = output_size\n",
    "        self.drop_prob = drop_prob\n",
    "        self.is_bidir = is_bidir\n",
    "        \n",
    "        self.embed = nn.Embedding(self.vocab_size, self.embed_size)\n",
    "        \n",
    "        self.gru = nn.GRU(self.embed_size, hidden_size, num_layers, batch_first=True,\n",
    "                          dropout=drop_prob, bidirectional=is_bidir)\n",
    "        \n",
    "        self.dropout = nn.Dropout(drop_prob)\n",
    "        \n",
    "        if is_bidir:\n",
    "            self.fc = nn.Linear(hidden_size * 2, output_size)\n",
    "        else:\n",
    "            self.fc = nn.Linear(hidden_size, output_size)\n",
    "            \n",
    "        self.softmax = nn.LogSoftmax(dim=1)\n",
    "        \n",
    "        self.init_weights(vocab)\n",
    "\n",
    "    def init_weights(self, vocab):\n",
    "        initrange = 0.5\n",
    "        self.embed.weight.data.copy_(vocab.vectors)\n",
    "        self.fc.weight.data.uniform_(-initrange, initrange)\n",
    "        self.fc.bias.data.zero_()\n",
    "    \n",
    "    def init_hidden(self, batch_size):\n",
    "        weight = next(self.parameters()).data\n",
    "        if self.is_bidir:\n",
    "            hidden = weight.new(self.num_layers * 2, batch_size, self.hidden_size).zero_().to(DEVICE)\n",
    "        else:\n",
    "            hidden = weight.new(self.num_layers, batch_size, self.hidden_size).zero_().to(DEVICE)\n",
    "        return hidden\n",
    "    \n",
    "    def forward(self, x):\n",
    "        batch_size, seq_len = x.shape\n",
    "        if seq_len > 200:\n",
    "            x = x[:, 0:200]\n",
    "            seq_len = x.shape[1]\n",
    "        \n",
    "        hidden = self.init_hidden(batch_size)\n",
    "        \n",
    "        x_embed = self.embed(x)\n",
    "        \n",
    "        out, hidden = self.gru(x_embed, hidden)\n",
    "        out = out.transpose(0,1)\n",
    "        out = out[-1, :, :]\n",
    "        out = self.dropout(out)\n",
    "        \n",
    "        out = self.fc(out)\n",
    "        out = self.softmax(out)\n",
    "        \n",
    "        return out, hidden"
   ]
  },
  {
   "cell_type": "markdown",
   "metadata": {},
   "source": [
    "### Train Model"
   ]
  },
  {
   "cell_type": "code",
   "execution_count": 6,
   "metadata": {},
   "outputs": [
    {
     "name": "stdout",
     "output_type": "stream",
     "text": [
      "Selected optimization level O1:  Insert automatic casts around Pytorch functions and Tensor methods.\n",
      "\n",
      "Defaults for this optimization level are:\n",
      "enabled                : True\n",
      "opt_level              : O1\n",
      "cast_model_type        : None\n",
      "patch_torch_functions  : True\n",
      "keep_batchnorm_fp32    : None\n",
      "master_weights         : None\n",
      "loss_scale             : dynamic\n",
      "Processing user overrides (additional kwargs that are not None)...\n",
      "After processing overrides, optimization options are:\n",
      "enabled                : True\n",
      "opt_level              : O1\n",
      "cast_model_type        : None\n",
      "patch_torch_functions  : True\n",
      "keep_batchnorm_fp32    : None\n",
      "master_weights         : None\n",
      "loss_scale             : dynamic\n",
      "Warning:  multi_tensor_applier fused unscale kernel is unavailable, possibly because apex was installed without --cuda_ext --cpp_ext. Using Python fallback.  Original ImportError was: ModuleNotFoundError(\"No module named 'amp_C'\")\n"
     ]
    }
   ],
   "source": [
    "model = GruTextClassifier(\n",
    "    vocab=TEXT.vocab, hidden_size=512, num_layers=2, output_size=len(AUTHORS)+1,\n",
    "    drop_prob=0.5, is_bidir=False).to(DEVICE)\n",
    "\n",
    "optimizer = Adam(model.parameters(), eps=1e-4, weight_decay=1e-5)\n",
    "scheduler = ReduceLROnPlateau(optimizer, mode='min', patience=4)\n",
    "criterion = torch.nn.CrossEntropyLoss().to(DEVICE)\n",
    "\n",
    "if USE_AMP:\n",
    "    model, optimizer = amp.initialize(\n",
    "        model, optimizer, opt_level='O1', keep_batchnorm_fp32=None, loss_scale='dynamic')"
   ]
  },
  {
   "cell_type": "code",
   "execution_count": 7,
   "metadata": {},
   "outputs": [
    {
     "name": "stdout",
     "output_type": "stream",
     "text": [
      "Epoch: 1/5... Step: 0... Loss: 2.560323... Val Loss: 4.001451... Val Acc: 0.160738\n",
      "Validation loss decreased (4.001451 --> 4.001451). Saving model...\n",
      "Gradient overflow.  Skipping step, loss scaler 0 reducing loss scale to 32768.0\n",
      "Gradient overflow.  Skipping step, loss scaler 0 reducing loss scale to 16384.0\n",
      "Epoch: 1/5... Step: 500... Loss: 0.581944... Val Loss: 0.833095... Val Acc: 0.721954\n",
      "Validation loss decreased (4.001451 --> 0.833095). Saving model...\n",
      "Epoch: 1/5... Step: 1000... Loss: 0.145256... Val Loss: 0.667936... Val Acc: 0.805858\n",
      "Validation loss decreased (0.833095 --> 0.667936). Saving model...\n",
      "Epoch: 1... Loss: 0.034625... Time: 1:18\n",
      "Epoch: 2/5... Step: 1500... Loss: 0.245750... Val Loss: 0.753982... Val Acc: 0.806905\n",
      "Epoch: 2/5... Step: 2000... Loss: 0.142821... Val Loss: 0.614319... Val Acc: 0.845584\n",
      "Validation loss decreased (0.667936 --> 0.614319). Saving model...\n",
      "Epoch: 2/5... Step: 2500... Loss: 0.128519... Val Loss: 0.705726... Val Acc: 0.840609\n",
      "Epoch: 2... Loss: 0.021270... Time: 1:19\n",
      "Epoch: 3/5... Step: 3000... Loss: 0.088920... Val Loss: 0.682707... Val Acc: 0.851382\n",
      "Epoch: 3/5... Step: 3500... Loss: 0.010641... Val Loss: 0.727019... Val Acc: 0.841843\n",
      "Epoch: 3/5... Step: 4000... Loss: 0.097898... Val Loss: 0.748194... Val Acc: 0.856844\n",
      "Epoch: 3... Loss: 0.006818... Time: 1:19\n",
      "Epoch: 4/5... Step: 4500... Loss: 0.052860... Val Loss: 0.821201... Val Acc: 0.856395\n",
      "Epoch: 4/5... Step: 5000... Loss: 0.002922... Val Loss: 0.825231... Val Acc: 0.871133\n",
      "Epoch: 4/5... Step: 5500... Loss: 0.022782... Val Loss: 0.899247... Val Acc: 0.868627\n",
      "Epoch: 4... Loss: 0.000609... Time: 1:20\n",
      "Epoch: 5/5... Step: 6000... Loss: 0.001202... Val Loss: 0.874075... Val Acc: 0.872367\n",
      "Epoch: 5/5... Step: 6500... Loss: 0.000105... Val Loss: 0.921411... Val Acc: 0.873752\n",
      "Epoch: 5/5... Step: 7000... Loss: 0.002370... Val Loss: 0.933097... Val Acc: 0.869599\n",
      "Epoch: 5... Loss: 0.007245... Time: 1:20\n"
     ]
    }
   ],
   "source": [
    "n_epochs = 5\n",
    "step_count = 0\n",
    "val_loss_min = None\n",
    "hist_dict = {'steps':[], 'loss':[], 'val_loss':[], 'val_acc':[]}\n",
    "for epoch in range(n_epochs):\n",
    "    start = timeit.default_timer()\n",
    "    \n",
    "    for data in train_iter:\n",
    "        inputs, labels = data.text.to(DEVICE), data.label.to(DEVICE)\n",
    "        model.zero_grad()\n",
    "        output, hidden = model(inputs)\n",
    "        loss = criterion(output, labels)\n",
    "        \n",
    "        if USE_AMP:\n",
    "            with amp.scale_loss(loss, optimizer) as scaled_loss:\n",
    "                scaled_loss.backward()\n",
    "        else:\n",
    "            loss.backward()\n",
    "        \n",
    "        optimizer.step()\n",
    "        \n",
    "        # Validate model every 500 batches\n",
    "        if step_count % 500 == 0:\n",
    "            val_losses = []\n",
    "            val_acc = 0\n",
    "            \n",
    "            model.eval()\n",
    "            for val_data in val_iter:\n",
    "                with torch.no_grad():\n",
    "                    val_inputs, val_labels = val_data.text.to(DEVICE), val_data.label.to(DEVICE)\n",
    "                    val_out, val_hidden = model(val_inputs)\n",
    "                    val_loss = criterion(val_out, val_labels)\n",
    "                    val_losses.append(val_loss.item())\n",
    "                    val_acc += (val_out.argmax(1) == val_labels).sum().item()\n",
    "            model.train()\n",
    "\n",
    "            val_loss_mean = np.mean(val_losses)\n",
    "            val_acc = val_acc / (len(val_iter.dataset.examples))\n",
    "            scheduler.step(val_loss_mean)\n",
    "\n",
    "            hist_dict['steps'].append(step_count)\n",
    "            hist_dict['loss'].append(loss.item())\n",
    "            hist_dict['val_loss'].append(val_loss_mean)\n",
    "            hist_dict['val_acc'].append(val_acc)\n",
    "\n",
    "            print('Epoch: {}/{}...'.format(epoch+1, n_epochs),\n",
    "                  'Step: {}...'.format(step_count),\n",
    "                  'Loss: {:.6f}...'.format(loss.item()),\n",
    "                  'Val Loss: {:.6f}...'.format(val_loss_mean),\n",
    "                  'Val Acc: {:.6f}'.format(val_acc))\n",
    "\n",
    "            if val_loss_min is None:\n",
    "                val_loss_min = val_loss_mean\n",
    "\n",
    "            if val_loss_mean <= val_loss_min:\n",
    "                print('Validation loss decreased ({:.6f} --> {:.6f}). Saving model...'.format(val_loss_min, val_loss_mean))\n",
    "                torch.save(model.state_dict(), MODEL_PATH)\n",
    "                val_loss_min = val_loss_mean\n",
    "            \n",
    "        step_count += 1\n",
    "    \n",
    "    seconds = int(timeit.default_timer() - start)\n",
    "    minutes = seconds // 60\n",
    "    print(f'Epoch: {epoch + 1}... Loss: {loss.item():.6f}... Time: {minutes}:{seconds % 60}')"
   ]
  },
  {
   "cell_type": "code",
   "execution_count": 8,
   "metadata": {},
   "outputs": [],
   "source": [
    "torch.save(model.state_dict(), MODEL_PATH_FINAL)"
   ]
  },
  {
   "cell_type": "markdown",
   "metadata": {},
   "source": [
    "### Evaluate Model"
   ]
  },
  {
   "cell_type": "code",
   "execution_count": 9,
   "metadata": {},
   "outputs": [
    {
     "data": {
      "image/png": "[encoded data removed]",
      "text/plain": [
       "<Figure size 432x288 with 1 Axes>"
      ]
     },
     "metadata": {
      "needs_background": "light"
     },
     "output_type": "display_data"
    }
   ],
   "source": [
    "plt.plot(hist_dict['steps'], hist_dict['loss'], 'bo', label='Training')\n",
    "plt.plot(hist_dict['steps'], hist_dict['val_loss'], 'b', label='Validation')\n",
    "plt.xlabel('Steps')\n",
    "plt.ylabel('Loss')\n",
    "plt.legend()\n",
    "plt.show()"
   ]
  },
  {
   "cell_type": "code",
   "execution_count": 10,
   "metadata": {},
   "outputs": [
    {
     "data": {
      "image/png": "[encoded data removed]",
      "text/plain": [
       "<Figure size 432x288 with 1 Axes>"
      ]
     },
     "metadata": {
      "needs_background": "light"
     },
     "output_type": "display_data"
    }
   ],
   "source": [
    "plt.plot(hist_dict['steps'], hist_dict['val_acc'], 'b', label='Validation')\n",
    "plt.xlabel('Steps')\n",
    "plt.ylabel('Accuracy')\n",
    "plt.legend()\n",
    "plt.show()"
   ]
  },
  {
   "cell_type": "code",
   "execution_count": 11,
   "metadata": {},
   "outputs": [],
   "source": [
    "def test(model, tt_iter):\n",
    "    acc = 0\n",
    "    \n",
    "    model.eval()\n",
    "    for data in tqdm_notebook(tt_iter):\n",
    "        with torch.no_grad():\n",
    "            inputs, labels = data.text.to(DEVICE), data.label.to(DEVICE)\n",
    "            output, hidden = model(inputs)\n",
    "            acc += (output.argmax(1) == labels).sum().item()\n",
    "    model.train()\n",
    "    \n",
    "    return acc / len(tt_iter.dataset.examples)"
   ]
  },
  {
   "cell_type": "code",
   "execution_count": 12,
   "metadata": {},
   "outputs": [
    {
     "data": {
      "application/vnd.jupyter.widget-view+json": {
       "model_id": "e9d373a9cb6f4733bf3d6de07269c48f",
       "version_major": 2,
       "version_minor": 0
      },
      "text/plain": [
       "HBox(children=(IntProgress(value=0, max=229), HTML(value='')))"
      ]
     },
     "metadata": {},
     "output_type": "display_data"
    },
    {
     "name": "stdout",
     "output_type": "stream",
     "text": [
      "\n",
      "0.829940119760479\n"
     ]
    }
   ],
   "source": [
    "print(test(model, test_iter))"
   ]
  },
  {
   "cell_type": "code",
   "execution_count": 13,
   "metadata": {},
   "outputs": [
    {
     "data": {
      "application/vnd.jupyter.widget-view+json": {
       "model_id": "968aa18bc3974d2db6711fde894c55cb",
       "version_major": 2,
       "version_minor": 0
      },
      "text/plain": [
       "HBox(children=(IntProgress(value=0, max=229), HTML(value='')))"
      ]
     },
     "metadata": {},
     "output_type": "display_data"
    },
    {
     "name": "stdout",
     "output_type": "stream",
     "text": [
      "\n",
      "0.8106415739948674\n"
     ]
    }
   ],
   "source": [
    "model.load_state_dict(torch.load(MODEL_PATH))\n",
    "print(test(model, test_iter))"
   ]
  }
 ],
 "metadata": {
  "kernelspec": {
   "display_name": "Python 3",
   "language": "python",
   "name": "python3"
  },
  "language_info": {
   "codemirror_mode": {
    "name": "ipython",
    "version": 3
   },
   "file_extension": ".py",
   "mimetype": "text/x-python",
   "name": "python",
   "nbconvert_exporter": "python",
   "pygments_lexer": "ipython3",
   "version": "3.7.5"
  }
 },
 "nbformat": 4,
 "nbformat_minor": 2
}
