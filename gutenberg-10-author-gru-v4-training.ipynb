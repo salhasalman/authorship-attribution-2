{
 "cells": [
  {
   "cell_type": "markdown",
   "metadata": {},
   "source": [
    "### Load Libraries"
   ]
  },
  {
   "cell_type": "code",
   "execution_count": 1,
   "metadata": {},
   "outputs": [],
   "source": [
    "from __future__ import unicode_literals, print_function, division\n",
    "\n",
    "import glob\n",
    "import math\n",
    "import matplotlib.pyplot as plt\n",
    "import matplotlib.ticker as ticker\n",
    "import numpy as np\n",
    "import os\n",
    "os.environ['CUDA_VISIBLE_DEVICES'] = '0,1'\n",
    "import pandas as pd\n",
    "import pickle\n",
    "import unicodedata\n",
    "import random\n",
    "import regex\n",
    "import spacy\n",
    "import string\n",
    "import sys\n",
    "np.set_printoptions(threshold=sys.maxsize)\n",
    "import time\n",
    "import timeit\n",
    "\n",
    "from tqdm import tqdm_notebook\n",
    "from apex import amp\n",
    "\n",
    "import torch\n",
    "import torch.nn as nn\n",
    "import torchtext\n",
    "from torchtext.data import Field, BucketIterator, TabularDataset, Iterator\n",
    "from torch.optim import Adam, RMSprop\n",
    "from torch.optim.lr_scheduler import ReduceLROnPlateau\n",
    "\n",
    "seed = 42\n",
    "np.random.seed(seed)\n",
    "random.seed(seed)\n",
    "os.environ['PYTHONHASHSEED'] = str(seed)\n",
    "\n",
    "nlp = spacy.load('en_core_web_sm')\n",
    "nlp.max_length = 2000000"
   ]
  },
  {
   "cell_type": "code",
   "execution_count": 10,
   "metadata": {},
   "outputs": [],
   "source": [
    "USE_AMP = True\n",
    "DEVICE = torch.device('cuda:0' if USE_AMP else 'cpu')\n",
    "MODEL_NAME = 'gru-v4'\n",
    "MODEL_PATH = f'./saved-data/models/{MODEL_NAME}-state-dict.pt'\n",
    "MODEL_PATH2 = f'./saved-data/models/{MODEL_NAME}-final-state-dict.pt'\n",
    "GENERATE_SAMPLES = False\n",
    "SAMPLE_SIZE = 200\n",
    "AUTHORS = [\n",
    "    'Andrew Lang',\n",
    "    'Anthony Trollope',\n",
    "    'Baronness Orczy',\n",
    "    'Benjamin Disraeli',\n",
    "    'Bret Harte',\n",
    "    'Charles Darwin',\n",
    "    'Charles Dickens',\n",
    "    'Charles Kingsley',\n",
    "    'Charlotte Mary Yonge',\n",
    "    'Daniel Defoe',\n",
    "]"
   ]
  },
  {
   "cell_type": "markdown",
   "metadata": {},
   "source": [
    "### Generate Labeled Samples"
   ]
  },
  {
   "cell_type": "code",
   "execution_count": 3,
   "metadata": {},
   "outputs": [],
   "source": [
    "if GENERATE_SAMPLES:\n",
    "    paths = glob.glob('labeled-text/*')\n",
    "    paths.sort()\n",
    "    all_titles = [fn.split('/')[-1].split('___')[1][:-4] for fn in paths]\n",
    "    all_authors = [fn.split('/')[-1].split('___')[0] for fn in paths]\n",
    "    all_texts = [\n",
    "        open(path, errors='ignore', mode='r')\\\n",
    "        .read().replace('\\n', ' ').replace('\\r', '')\n",
    "             for path in paths\n",
    "    ]\n",
    "    \n",
    "    author_texts = {author:{'texts': [], 'train': [], 'val': [], 'test': []} for author in AUTHORS}\n",
    "    for author, text in zip(all_authors, all_texts):\n",
    "        if author in list(author_texts.keys()):\n",
    "            author_texts[author]['texts'].append(text)\n",
    "    \n",
    "    train_df = pd.DataFrame(columns=['text', 'author'])\n",
    "    val_df = pd.DataFrame(columns=['text', 'author'])\n",
    "    test_df = pd.DataFrame(columns=['text', 'author'])\n",
    "    for author in tqdm_notebook(AUTHORS):\n",
    "        num_of_texts = len(author_texts[author]['texts'])\n",
    "        train_count = int(0.8 * num_of_texts)\n",
    "        val_count = int(0.5 * (num_of_texts - train_count))\n",
    "        test_count = num_of_texts - train_count - val_count\n",
    "        \n",
    "        author_texts[author]['train'] = author_texts[author]['texts'][:train_count]\n",
    "        author_texts[author]['val'] = author_texts[author]['texts'][train_count:train_count+val_count]\n",
    "        author_texts[author]['test'] = author_texts[author]['texts'][train_count+val_count:]\n",
    "        \n",
    "        for doc in nlp.pipe(author_texts[author]['train'], disable=['tagger', 'parser', 'ner']):\n",
    "            train_df = pd.concat([train_df] + [pd.DataFrame(\n",
    "                    [[''.join(token.text_with_ws for token in doc[idx:idx+SAMPLE_SIZE]), author]], columns=['text', 'author']\n",
    "                ) for idx in range(0, len(doc)-SAMPLE_SIZE, SAMPLE_SIZE)], ignore_index=True)\n",
    "        for doc in nlp.pipe(author_texts[author]['val'], disable=['tagger', 'parser', 'ner']):\n",
    "            val_df = pd.concat([val_df] + [pd.DataFrame(\n",
    "                    [[''.join(token.text_with_ws for token in doc[idx:idx+SAMPLE_SIZE]), author]], columns=['text', 'author']\n",
    "                ) for idx in range(0, len(doc)-SAMPLE_SIZE, SAMPLE_SIZE)], ignore_index=True)\n",
    "        for doc in nlp.pipe(author_texts[author]['test'], disable=['tagger', 'parser', 'ner']):\n",
    "            test_df = pd.concat([test_df] + [pd.DataFrame(\n",
    "                    [[''.join(token.text_with_ws for token in doc[idx:idx+SAMPLE_SIZE]), author]], columns=['text', 'author']\n",
    "                ) for idx in range(0, len(doc)-SAMPLE_SIZE, SAMPLE_SIZE)], ignore_index=True)\n",
    "    \n",
    "    train_df.to_csv(f'saved-data/csv/{SAMPLE_SIZE}-token-train.csv', index=False)\n",
    "    val_df.to_csv(f'saved-data/csv/{SAMPLE_SIZE}-token-val.csv', index=False)\n",
    "    test_df.to_csv(f'saved-data/csv/{SAMPLE_SIZE}-token-test.csv', index=False)"
   ]
  },
  {
   "cell_type": "markdown",
   "metadata": {},
   "source": [
    "### Load Data"
   ]
  },
  {
   "cell_type": "code",
   "execution_count": 4,
   "metadata": {},
   "outputs": [],
   "source": [
    "def tokenizer(text):\n",
    "    return [tok.text for tok in nlp.tokenizer(text)]\n",
    "\n",
    "BATCH_SIZE = 48\n",
    "VAL_BATCH_SIZE = 48\n",
    "TEXT = Field(sequential=True, tokenize=tokenizer, lower=True, batch_first=True)\n",
    "LABEL = Field(sequential=False, batch_first=True)\n",
    "\n",
    "train_df = pd.read_csv(f'saved-data/csv/{SAMPLE_SIZE}-token-train.csv')\n",
    "val_df = pd.read_csv(f'saved-data/csv/{SAMPLE_SIZE}-token-val.csv')\n",
    "val_df = val_df.sample(n=5000)\n",
    "test_df = pd.read_csv(f'saved-data/csv/{SAMPLE_SIZE}-token-test.csv')\n",
    "\n",
    "train_td, val_td, test_td = TabularDataset.splits(\n",
    "    path='saved-data/csv/', train=f'{SAMPLE_SIZE}-token-train.csv',\n",
    "    validation=f'{SAMPLE_SIZE}-token-val.csv', test=f'{SAMPLE_SIZE}-token-test.csv',\n",
    "    format='csv', skip_header=True, fields=[('text', TEXT), ('label', LABEL)])\n",
    "\n",
    "TEXT.build_vocab(train_td, min_freq=5)\n",
    "text_vocab = TEXT.vocab\n",
    "LABEL.build_vocab(train_td)\n",
    "label_vocab = LABEL.vocab\n",
    "\n",
    "train_iter, val_iter, test_iter = Iterator.splits(\n",
    "    (train_td, val_td, test_td),\n",
    "    sort_key=lambda x: len(x.text),\n",
    "    shuffle=True,\n",
    "    sort_within_batch=False,\n",
    "    batch_sizes=(BATCH_SIZE, VAL_BATCH_SIZE, VAL_BATCH_SIZE),\n",
    "    device=DEVICE)"
   ]
  },
  {
   "cell_type": "markdown",
   "metadata": {},
   "source": [
    "### Define Model"
   ]
  },
  {
   "cell_type": "code",
   "execution_count": 5,
   "metadata": {},
   "outputs": [],
   "source": [
    "def one_hot(labels, vocab_size):\n",
    "    one_hot = torch.zeros(labels.size(0), labels.size(1), vocab_size).to(DEVICE)\n",
    "    return one_hot.scatter_(dim=2, index=labels.unsqueeze(2), value=1)\n",
    "\n",
    "class GruWordTokenClassifier(nn.Module):\n",
    "    def __init__(self, vocab_size, hidden_size, num_layers, output_size, drop_prob, is_bidir):\n",
    "        super(GruWordTokenClassifier, self).__init__()\n",
    "        \n",
    "        self.vocab_size = vocab_size\n",
    "        self.hidden_size = hidden_size\n",
    "        self.num_layers = num_layers\n",
    "        self.output_size = output_size\n",
    "        self.drop_prob = drop_prob\n",
    "        self.is_bidir = is_bidir\n",
    "        \n",
    "        self.gru = nn.GRU(vocab_size, hidden_size, num_layers, batch_first=True,\n",
    "                          dropout=drop_prob, bidirectional=is_bidir)\n",
    "        \n",
    "        self.dropout = nn.Dropout(drop_prob)\n",
    "        \n",
    "        if is_bidir:\n",
    "            self.fc = nn.Linear(hidden_size * 2, output_size)\n",
    "        else:\n",
    "            self.fc = nn.Linear(hidden_size, output_size)\n",
    "            \n",
    "        self.softmax = nn.LogSoftmax(dim=1)\n",
    "        \n",
    "        self.init_weights()\n",
    "\n",
    "    def init_weights(self):\n",
    "        initrange = 0.5\n",
    "        self.fc.weight.data.uniform_(-initrange, initrange)\n",
    "        self.fc.bias.data.zero_()\n",
    "    \n",
    "    def init_hidden(self, batch_size):\n",
    "        weight = next(self.parameters()).data\n",
    "        if self.is_bidir:\n",
    "            hidden = weight.new(self.num_layers * 2, batch_size, self.hidden_size).zero_().to(DEVICE)\n",
    "        else:\n",
    "            hidden = weight.new(self.num_layers, batch_size, self.hidden_size).zero_().to(DEVICE)\n",
    "        return hidden\n",
    "    \n",
    "    def forward(self, x):\n",
    "        batch_size, seq_len = x.shape\n",
    "        if seq_len > 200:\n",
    "            x = x[:, 0:200]\n",
    "            seq_len = x.shape[1]\n",
    "        \n",
    "        x_oh = one_hot(x, self.vocab_size)\n",
    "        hidden = self.init_hidden(batch_size)\n",
    "        \n",
    "        out, hidden = self.gru(x_oh, hidden)\n",
    "        out = out.transpose(0,1)\n",
    "        out = out[-1, :, :]\n",
    "        out = self.dropout(out)\n",
    "        \n",
    "        out = self.fc(out)\n",
    "        out = self.softmax(out)\n",
    "        \n",
    "        return out, hidden"
   ]
  },
  {
   "cell_type": "markdown",
   "metadata": {},
   "source": [
    "### Train Model"
   ]
  },
  {
   "cell_type": "code",
   "execution_count": 7,
   "metadata": {},
   "outputs": [
    {
     "name": "stdout",
     "output_type": "stream",
     "text": [
      "Selected optimization level O1:  Insert automatic casts around Pytorch functions and Tensor methods.\n",
      "\n",
      "Defaults for this optimization level are:\n",
      "enabled                : True\n",
      "opt_level              : O1\n",
      "cast_model_type        : None\n",
      "patch_torch_functions  : True\n",
      "keep_batchnorm_fp32    : None\n",
      "master_weights         : None\n",
      "loss_scale             : dynamic\n",
      "Processing user overrides (additional kwargs that are not None)...\n",
      "After processing overrides, optimization options are:\n",
      "enabled                : True\n",
      "opt_level              : O1\n",
      "cast_model_type        : None\n",
      "patch_torch_functions  : True\n",
      "keep_batchnorm_fp32    : None\n",
      "master_weights         : None\n",
      "loss_scale             : dynamic\n",
      "Warning:  multi_tensor_applier fused unscale kernel is unavailable, possibly because apex was installed without --cuda_ext --cpp_ext. Using Python fallback.  Original ImportError was: ModuleNotFoundError(\"No module named 'amp_C'\")\n"
     ]
    }
   ],
   "source": [
    "model = GruWordTokenClassifier(\n",
    "    vocab_size=len(TEXT.vocab), hidden_size=512, num_layers=3,\n",
    "    output_size=len(AUTHORS)+1, drop_prob=0.5, is_bidir=False).to(DEVICE)\n",
    "\n",
    "optimizer = Adam(model.parameters(), eps=1e-4, weight_decay=1e-5)\n",
    "scheduler = ReduceLROnPlateau(optimizer, mode='min', patience=4)\n",
    "criterion = torch.nn.CrossEntropyLoss().to(DEVICE)\n",
    "\n",
    "if USE_AMP:\n",
    "    model, optimizer = amp.initialize(\n",
    "        model, optimizer, opt_level='O1', keep_batchnorm_fp32=None, loss_scale='dynamic')"
   ]
  },
  {
   "cell_type": "code",
   "execution_count": 8,
   "metadata": {},
   "outputs": [
    {
     "name": "stdout",
     "output_type": "stream",
     "text": [
      "Epoch: 1/8... Step: 0... Loss: 2.367469... Val Loss: 2.922967... Val Acc: 0.160588\n",
      "Validation loss decreased (2.922967 --> 2.922967). Saving model...\n",
      "Gradient overflow.  Skipping step, loss scaler 0 reducing loss scale to 32768.0\n",
      "Gradient overflow.  Skipping step, loss scaler 0 reducing loss scale to 16384.0\n",
      "Gradient overflow.  Skipping step, loss scaler 0 reducing loss scale to 8192.0\n",
      "Gradient overflow.  Skipping step, loss scaler 0 reducing loss scale to 4096.0\n",
      "Gradient overflow.  Skipping step, loss scaler 0 reducing loss scale to 2048.0\n",
      "Gradient overflow.  Skipping step, loss scaler 0 reducing loss scale to 1024.0\n",
      "Gradient overflow.  Skipping step, loss scaler 0 reducing loss scale to 512.0\n",
      "Epoch: 1/8... Step: 500... Loss: 1.752692... Val Loss: 1.833199... Val Acc: 0.349231\n",
      "Validation loss decreased (2.922967 --> 1.833199). Saving model...\n",
      "Epoch: 1/8... Step: 1000... Loss: 1.093027... Val Loss: 1.320352... Val Acc: 0.523622\n",
      "Validation loss decreased (1.833199 --> 1.320352). Saving model...\n",
      "Epoch: 1/8... Step: 1500... Loss: 0.310736... Val Loss: 0.734693... Val Acc: 0.782815\n",
      "Validation loss decreased (1.320352 --> 0.734693). Saving model...\n",
      "Epoch: 1/8... Step: 2000... Loss: 0.183924... Val Loss: 0.644001... Val Acc: 0.803277\n",
      "Validation loss decreased (0.734693 --> 0.644001). Saving model...\n",
      "Epoch: 1/8... Step: 2500... Loss: 0.197705... Val Loss: 0.566428... Val Acc: 0.828788\n",
      "Validation loss decreased (0.644001 --> 0.566428). Saving model...\n",
      "Epoch: 1/8... Step: 3000... Loss: 0.343537... Val Loss: 0.630819... Val Acc: 0.821307\n",
      "Epoch: 1/8... Step: 3500... Loss: 0.345635... Val Loss: 0.653420... Val Acc: 0.800696\n",
      "Epoch: 1... Loss: 0.007846... Time: 103:19\n",
      "Epoch: 2/8... Step: 4000... Loss: 0.217978... Val Loss: 0.620897... Val Acc: 0.842816\n",
      "Epoch: 2/8... Step: 4500... Loss: 0.213676... Val Loss: 0.632685... Val Acc: 0.833352\n",
      "Epoch: 2/8... Step: 5000... Loss: 0.179497... Val Loss: 0.542117... Val Acc: 0.850522\n",
      "Validation loss decreased (0.566428 --> 0.542117). Saving model...\n",
      "Epoch: 2/8... Step: 5500... Loss: 0.143662... Val Loss: 0.593704... Val Acc: 0.840833\n",
      "Epoch: 2/8... Step: 6000... Loss: 0.058062... Val Loss: 0.493372... Val Acc: 0.860472\n",
      "Validation loss decreased (0.542117 --> 0.493372). Saving model...\n",
      "Epoch: 2/8... Step: 6500... Loss: 0.084219... Val Loss: 0.632871... Val Acc: 0.839823\n",
      "Epoch: 2/8... Step: 7000... Loss: 0.098141... Val Loss: 0.524561... Val Acc: 0.860996\n",
      "Epoch: 2/8... Step: 7500... Loss: 0.306216... Val Loss: 0.743689... Val Acc: 0.800584\n",
      "Epoch: 2... Loss: 0.107477... Time: 104:17\n",
      "Epoch: 3/8... Step: 8000... Loss: 0.068896... Val Loss: 0.843070... Val Acc: 0.815584\n",
      "Epoch: 3/8... Step: 8500... Loss: 0.019138... Val Loss: 0.629745... Val Acc: 0.850709\n",
      "Epoch: 3/8... Step: 9000... Loss: 0.001638... Val Loss: 0.547364... Val Acc: 0.874799\n",
      "Epoch: 3/8... Step: 9500... Loss: 0.032225... Val Loss: 0.526666... Val Acc: 0.878315\n",
      "Epoch: 3/8... Step: 10000... Loss: 0.001499... Val Loss: 0.510825... Val Acc: 0.880036\n",
      "Gradient overflow.  Skipping step, loss scaler 0 reducing loss scale to 8192.0\n",
      "Epoch: 3/8... Step: 10500... Loss: 0.001039... Val Loss: 0.506607... Val Acc: 0.881757\n",
      "Epoch: 3/8... Step: 11000... Loss: 0.042162... Val Loss: 0.529080... Val Acc: 0.876183\n",
      "Epoch: 3/8... Step: 11500... Loss: 0.010332... Val Loss: 0.513718... Val Acc: 0.880934\n",
      "Epoch: 3... Loss: 0.001353... Time: 104:49\n",
      "Epoch: 4/8... Step: 12000... Loss: 0.000659... Val Loss: 0.509244... Val Acc: 0.881570\n",
      "Gradient overflow.  Skipping step, loss scaler 0 reducing loss scale to 8192.0\n",
      "Epoch: 4/8... Step: 12500... Loss: 0.015545... Val Loss: 0.511712... Val Acc: 0.881158\n",
      "Epoch: 4/8... Step: 13000... Loss: 0.002102... Val Loss: 0.508521... Val Acc: 0.883253\n",
      "Epoch: 4/8... Step: 13500... Loss: 0.020863... Val Loss: 0.506229... Val Acc: 0.883477\n",
      "Epoch: 4/8... Step: 14000... Loss: 0.000438... Val Loss: 0.504976... Val Acc: 0.883851\n",
      "Epoch: 4/8... Step: 14500... Loss: 0.048610... Val Loss: 0.505628... Val Acc: 0.883664\n",
      "Gradient overflow.  Skipping step, loss scaler 0 reducing loss scale to 8192.0\n",
      "Epoch: 4/8... Step: 15000... Loss: 0.013735... Val Loss: 0.508603... Val Acc: 0.883365\n",
      "Epoch: 4/8... Step: 15500... Loss: 0.000911... Val Loss: 0.510236... Val Acc: 0.883290\n",
      "Epoch: 4... Loss: 0.030312... Time: 105:5\n",
      "Epoch: 5/8... Step: 16000... Loss: 0.001505... Val Loss: 0.509959... Val Acc: 0.883627\n",
      "Epoch: 5/8... Step: 16500... Loss: 0.000915... Val Loss: 0.510145... Val Acc: 0.883552\n",
      "Gradient overflow.  Skipping step, loss scaler 0 reducing loss scale to 8192.0\n",
      "Epoch: 5/8... Step: 17000... Loss: 0.091564... Val Loss: 0.510159... Val Acc: 0.883627\n",
      "Epoch: 5/8... Step: 17500... Loss: 0.001308... Val Loss: 0.510526... Val Acc: 0.883590\n",
      "Epoch: 5/8... Step: 18000... Loss: 0.004848... Val Loss: 0.510705... Val Acc: 0.883590\n",
      "Epoch: 5/8... Step: 18500... Loss: 0.010160... Val Loss: 0.510532... Val Acc: 0.883477\n",
      "Gradient overflow.  Skipping step, loss scaler 0 reducing loss scale to 8192.0\n",
      "Epoch: 5/8... Step: 19000... Loss: 0.009042... Val Loss: 0.510547... Val Acc: 0.883515\n"
     ]
    },
    {
     "ename": "KeyboardInterrupt",
     "evalue": "",
     "output_type": "error",
     "traceback": [
      "\u001b[0;31m---------------------------------------------------------------------------\u001b[0m",
      "\u001b[0;31mKeyboardInterrupt\u001b[0m                         Traceback (most recent call last)",
      "\u001b[0;32m<ipython-input-8-17453a82eb12>\u001b[0m in \u001b[0;36m<module>\u001b[0;34m\u001b[0m\n\u001b[1;32m     14\u001b[0m         \u001b[0;32mif\u001b[0m \u001b[0mUSE_AMP\u001b[0m\u001b[0;34m:\u001b[0m\u001b[0;34m\u001b[0m\u001b[0;34m\u001b[0m\u001b[0m\n\u001b[1;32m     15\u001b[0m             \u001b[0;32mwith\u001b[0m \u001b[0mamp\u001b[0m\u001b[0;34m.\u001b[0m\u001b[0mscale_loss\u001b[0m\u001b[0;34m(\u001b[0m\u001b[0mloss\u001b[0m\u001b[0;34m,\u001b[0m \u001b[0moptimizer\u001b[0m\u001b[0;34m)\u001b[0m \u001b[0;32mas\u001b[0m \u001b[0mscaled_loss\u001b[0m\u001b[0;34m:\u001b[0m\u001b[0;34m\u001b[0m\u001b[0;34m\u001b[0m\u001b[0m\n\u001b[0;32m---> 16\u001b[0;31m                 \u001b[0mscaled_loss\u001b[0m\u001b[0;34m.\u001b[0m\u001b[0mbackward\u001b[0m\u001b[0;34m(\u001b[0m\u001b[0;34m)\u001b[0m\u001b[0;34m\u001b[0m\u001b[0;34m\u001b[0m\u001b[0m\n\u001b[0m\u001b[1;32m     17\u001b[0m         \u001b[0;32melse\u001b[0m\u001b[0;34m:\u001b[0m\u001b[0;34m\u001b[0m\u001b[0;34m\u001b[0m\u001b[0m\n\u001b[1;32m     18\u001b[0m             \u001b[0mloss\u001b[0m\u001b[0;34m.\u001b[0m\u001b[0mbackward\u001b[0m\u001b[0;34m(\u001b[0m\u001b[0;34m)\u001b[0m\u001b[0;34m\u001b[0m\u001b[0;34m\u001b[0m\u001b[0m\n",
      "\u001b[0;32m~/anaconda3/envs/mlve-10.1/lib/python3.7/contextlib.py\u001b[0m in \u001b[0;36m__exit__\u001b[0;34m(self, type, value, traceback)\u001b[0m\n\u001b[1;32m    117\u001b[0m         \u001b[0;32mif\u001b[0m \u001b[0mtype\u001b[0m \u001b[0;32mis\u001b[0m \u001b[0;32mNone\u001b[0m\u001b[0;34m:\u001b[0m\u001b[0;34m\u001b[0m\u001b[0;34m\u001b[0m\u001b[0m\n\u001b[1;32m    118\u001b[0m             \u001b[0;32mtry\u001b[0m\u001b[0;34m:\u001b[0m\u001b[0;34m\u001b[0m\u001b[0;34m\u001b[0m\u001b[0m\n\u001b[0;32m--> 119\u001b[0;31m                 \u001b[0mnext\u001b[0m\u001b[0;34m(\u001b[0m\u001b[0mself\u001b[0m\u001b[0;34m.\u001b[0m\u001b[0mgen\u001b[0m\u001b[0;34m)\u001b[0m\u001b[0;34m\u001b[0m\u001b[0;34m\u001b[0m\u001b[0m\n\u001b[0m\u001b[1;32m    120\u001b[0m             \u001b[0;32mexcept\u001b[0m \u001b[0mStopIteration\u001b[0m\u001b[0;34m:\u001b[0m\u001b[0;34m\u001b[0m\u001b[0;34m\u001b[0m\u001b[0m\n\u001b[1;32m    121\u001b[0m                 \u001b[0;32mreturn\u001b[0m \u001b[0;32mFalse\u001b[0m\u001b[0;34m\u001b[0m\u001b[0;34m\u001b[0m\u001b[0m\n",
      "\u001b[0;32m~/anaconda3/envs/mlve-10.1/lib/python3.7/site-packages/apex/amp/handle.py\u001b[0m in \u001b[0;36mscale_loss\u001b[0;34m(loss, optimizers, loss_id, model, delay_unscale, delay_overflow_check)\u001b[0m\n\u001b[1;32m    121\u001b[0m             \u001b[0mloss_scaler\u001b[0m\u001b[0;34m.\u001b[0m\u001b[0mclear_overflow_state\u001b[0m\u001b[0;34m(\u001b[0m\u001b[0;34m)\u001b[0m\u001b[0;34m\u001b[0m\u001b[0;34m\u001b[0m\u001b[0m\n\u001b[1;32m    122\u001b[0m             \u001b[0;32mfor\u001b[0m \u001b[0moptimizer\u001b[0m \u001b[0;32min\u001b[0m \u001b[0moptimizers\u001b[0m\u001b[0;34m:\u001b[0m\u001b[0;34m\u001b[0m\u001b[0;34m\u001b[0m\u001b[0m\n\u001b[0;32m--> 123\u001b[0;31m                 \u001b[0moptimizer\u001b[0m\u001b[0;34m.\u001b[0m\u001b[0m_post_amp_backward\u001b[0m\u001b[0;34m(\u001b[0m\u001b[0mloss_scaler\u001b[0m\u001b[0;34m)\u001b[0m\u001b[0;34m\u001b[0m\u001b[0;34m\u001b[0m\u001b[0m\n\u001b[0m\u001b[1;32m    124\u001b[0m                 \u001b[0moptimizer\u001b[0m\u001b[0;34m.\u001b[0m\u001b[0m_amp_stash\u001b[0m\u001b[0;34m.\u001b[0m\u001b[0mparams_have_scaled_gradients\u001b[0m \u001b[0;34m=\u001b[0m \u001b[0;32mFalse\u001b[0m\u001b[0;34m\u001b[0m\u001b[0;34m\u001b[0m\u001b[0m\n\u001b[1;32m    125\u001b[0m             \u001b[0;31m# For future fused optimizers that enable sync-free dynamic loss scaling,\u001b[0m\u001b[0;34m\u001b[0m\u001b[0;34m\u001b[0m\u001b[0;34m\u001b[0m\u001b[0m\n",
      "\u001b[0;32m~/anaconda3/envs/mlve-10.1/lib/python3.7/site-packages/apex/amp/_process_optimizer.py\u001b[0m in \u001b[0;36mpost_backward_no_master_weights\u001b[0;34m(self, scaler)\u001b[0m\n\u001b[1;32m    239\u001b[0m \u001b[0;34m\u001b[0m\u001b[0m\n\u001b[1;32m    240\u001b[0m     \u001b[0;32mfor\u001b[0m \u001b[0mparams\u001b[0m\u001b[0;34m,\u001b[0m \u001b[0mstashed_grads\u001b[0m \u001b[0;32min\u001b[0m \u001b[0msplit_types\u001b[0m\u001b[0;34m:\u001b[0m\u001b[0;34m\u001b[0m\u001b[0;34m\u001b[0m\u001b[0m\n\u001b[0;32m--> 241\u001b[0;31m         \u001b[0mpost_backward_models_are_masters\u001b[0m\u001b[0;34m(\u001b[0m\u001b[0mscaler\u001b[0m\u001b[0;34m,\u001b[0m \u001b[0mparams\u001b[0m\u001b[0;34m,\u001b[0m \u001b[0mstashed_grads\u001b[0m\u001b[0;34m)\u001b[0m\u001b[0;34m\u001b[0m\u001b[0;34m\u001b[0m\u001b[0m\n\u001b[0m\u001b[1;32m    242\u001b[0m \u001b[0;34m\u001b[0m\u001b[0m\n\u001b[1;32m    243\u001b[0m \u001b[0;34m\u001b[0m\u001b[0m\n",
      "\u001b[0;32m~/anaconda3/envs/mlve-10.1/lib/python3.7/site-packages/apex/amp/_process_optimizer.py\u001b[0m in \u001b[0;36mpost_backward_models_are_masters\u001b[0;34m(scaler, params, stashed_grads, scale_override)\u001b[0m\n\u001b[1;32m    125\u001b[0m                 \u001b[0mstashed\u001b[0m\u001b[0;34m,\u001b[0m\u001b[0;34m\u001b[0m\u001b[0;34m\u001b[0m\u001b[0m\n\u001b[1;32m    126\u001b[0m                 \u001b[0mgrads_needing_unscale_with_stash\u001b[0m\u001b[0;34m,\u001b[0m\u001b[0;34m\u001b[0m\u001b[0;34m\u001b[0m\u001b[0m\n\u001b[0;32m--> 127\u001b[0;31m                 scale_override=(grads_have_scale, stashed_have_scale, out_scale))\n\u001b[0m\u001b[1;32m    128\u001b[0m \u001b[0;34m\u001b[0m\u001b[0m\n\u001b[1;32m    129\u001b[0m         \u001b[0;31m# Clear the stash.\u001b[0m\u001b[0;34m\u001b[0m\u001b[0;34m\u001b[0m\u001b[0;34m\u001b[0m\u001b[0m\n",
      "\u001b[0;32m~/anaconda3/envs/mlve-10.1/lib/python3.7/site-packages/apex/amp/scaler.py\u001b[0m in \u001b[0;36munscale_with_stashed\u001b[0;34m(self, model_grads, stashed_master_grads, master_grads, scale_override)\u001b[0m\n\u001b[1;32m    182\u001b[0m                                              \u001b[0mmaster_grads\u001b[0m\u001b[0;34m,\u001b[0m\u001b[0;34m\u001b[0m\u001b[0;34m\u001b[0m\u001b[0m\n\u001b[1;32m    183\u001b[0m                                              \u001b[0mout_scale\u001b[0m\u001b[0;34m/\u001b[0m\u001b[0mgrads_have_scale\u001b[0m\u001b[0;34m,\u001b[0m\u001b[0;34m\u001b[0m\u001b[0;34m\u001b[0m\u001b[0m\n\u001b[0;32m--> 184\u001b[0;31m                                              out_scale/stashed_have_scale)\n\u001b[0m\u001b[1;32m    185\u001b[0m \u001b[0;34m\u001b[0m\u001b[0m\n\u001b[1;32m    186\u001b[0m         \u001b[0;31m# Defer to update_scale\u001b[0m\u001b[0;34m\u001b[0m\u001b[0;34m\u001b[0m\u001b[0;34m\u001b[0m\u001b[0m\n",
      "\u001b[0;32m~/anaconda3/envs/mlve-10.1/lib/python3.7/site-packages/apex/amp/scaler.py\u001b[0m in \u001b[0;36munscale_with_stashed_python\u001b[0;34m(self, model_grads, stashed_master_grads, master_grads, a, b)\u001b[0m\n\u001b[1;32m    146\u001b[0m                                                                  \u001b[0ma\u001b[0m\u001b[0;34m,\u001b[0m\u001b[0;34m\u001b[0m\u001b[0;34m\u001b[0m\u001b[0m\n\u001b[1;32m    147\u001b[0m                                                                  \u001b[0mb\u001b[0m\u001b[0;34m,\u001b[0m\u001b[0;34m\u001b[0m\u001b[0;34m\u001b[0m\u001b[0m\n\u001b[0;32m--> 148\u001b[0;31m                                                                  self.dynamic)\n\u001b[0m\u001b[1;32m    149\u001b[0m                 \u001b[0;32mif\u001b[0m \u001b[0mself\u001b[0m\u001b[0;34m.\u001b[0m\u001b[0m_has_overflow\u001b[0m \u001b[0;32mand\u001b[0m \u001b[0mself\u001b[0m\u001b[0;34m.\u001b[0m\u001b[0mdynamic\u001b[0m\u001b[0;34m:\u001b[0m\u001b[0;34m\u001b[0m\u001b[0;34m\u001b[0m\u001b[0m\n\u001b[1;32m    150\u001b[0m                     \u001b[0;32mbreak\u001b[0m\u001b[0;34m\u001b[0m\u001b[0;34m\u001b[0m\u001b[0m\n",
      "\u001b[0;32m~/anaconda3/envs/mlve-10.1/lib/python3.7/site-packages/apex/amp/scaler.py\u001b[0m in \u001b[0;36maxpby_check_overflow_python\u001b[0;34m(model_grad, stashed_grad, master_grad, a, b, check_overflow)\u001b[0m\n\u001b[1;32m     20\u001b[0m     \u001b[0;31m# Exception handling for 18.04 compatibility\u001b[0m\u001b[0;34m\u001b[0m\u001b[0;34m\u001b[0m\u001b[0;34m\u001b[0m\u001b[0m\n\u001b[1;32m     21\u001b[0m     \u001b[0;32mif\u001b[0m \u001b[0mcheck_overflow\u001b[0m\u001b[0;34m:\u001b[0m\u001b[0;34m\u001b[0m\u001b[0;34m\u001b[0m\u001b[0m\n\u001b[0;32m---> 22\u001b[0;31m         \u001b[0mcpu_sum\u001b[0m \u001b[0;34m=\u001b[0m \u001b[0mfloat\u001b[0m\u001b[0;34m(\u001b[0m\u001b[0mmodel_grad\u001b[0m\u001b[0;34m.\u001b[0m\u001b[0mfloat\u001b[0m\u001b[0;34m(\u001b[0m\u001b[0;34m)\u001b[0m\u001b[0;34m.\u001b[0m\u001b[0msum\u001b[0m\u001b[0;34m(\u001b[0m\u001b[0;34m)\u001b[0m\u001b[0;34m)\u001b[0m\u001b[0;34m\u001b[0m\u001b[0;34m\u001b[0m\u001b[0m\n\u001b[0m\u001b[1;32m     23\u001b[0m         \u001b[0;32mif\u001b[0m \u001b[0mcpu_sum\u001b[0m \u001b[0;34m==\u001b[0m \u001b[0mfloat\u001b[0m\u001b[0;34m(\u001b[0m\u001b[0;34m'inf'\u001b[0m\u001b[0;34m)\u001b[0m \u001b[0;32mor\u001b[0m \u001b[0mcpu_sum\u001b[0m \u001b[0;34m==\u001b[0m \u001b[0;34m-\u001b[0m\u001b[0mfloat\u001b[0m\u001b[0;34m(\u001b[0m\u001b[0;34m'inf'\u001b[0m\u001b[0;34m)\u001b[0m \u001b[0;32mor\u001b[0m \u001b[0mcpu_sum\u001b[0m \u001b[0;34m!=\u001b[0m \u001b[0mcpu_sum\u001b[0m\u001b[0;34m:\u001b[0m\u001b[0;34m\u001b[0m\u001b[0;34m\u001b[0m\u001b[0m\n\u001b[1;32m     24\u001b[0m             \u001b[0;32mreturn\u001b[0m \u001b[0;32mTrue\u001b[0m\u001b[0;34m\u001b[0m\u001b[0;34m\u001b[0m\u001b[0m\n",
      "\u001b[0;31mKeyboardInterrupt\u001b[0m: "
     ]
    }
   ],
   "source": [
    "n_epochs = 8\n",
    "step_count = 0\n",
    "val_loss_min = None\n",
    "hist_dict = {'steps':[], 'loss':[], 'val_loss':[], 'val_acc':[]}\n",
    "for epoch in range(n_epochs):\n",
    "    start = timeit.default_timer()\n",
    "    \n",
    "    for data in train_iter:\n",
    "        inputs, labels = data.text.to(DEVICE), data.label.to(DEVICE)\n",
    "        model.zero_grad()\n",
    "        output, hidden = model(inputs)\n",
    "        loss = criterion(output, labels)\n",
    "        \n",
    "        if USE_AMP:\n",
    "            with amp.scale_loss(loss, optimizer) as scaled_loss:\n",
    "                scaled_loss.backward()\n",
    "        else:\n",
    "            loss.backward()\n",
    "        \n",
    "        optimizer.step()\n",
    "        \n",
    "        # Validate model every 500 batches\n",
    "        if step_count % 500 == 0:\n",
    "            val_losses = []\n",
    "            val_acc = 0\n",
    "            \n",
    "            model.eval()\n",
    "            for val_data in val_iter:\n",
    "                with torch.no_grad():\n",
    "                    val_inputs, val_labels = val_data.text.to(DEVICE), val_data.label.to(DEVICE)\n",
    "                    val_out, val_hidden = model(val_inputs)\n",
    "                    val_loss = criterion(val_out, val_labels)\n",
    "                    val_losses.append(val_loss.item())\n",
    "                    val_acc += (val_out.argmax(1) == val_labels).sum().item()\n",
    "            model.train()\n",
    "\n",
    "            val_loss_mean = np.mean(val_losses)\n",
    "            val_acc = val_acc / (len(val_iter.dataset.examples))\n",
    "            scheduler.step(val_loss_mean)\n",
    "\n",
    "            hist_dict['steps'].append(step_count)\n",
    "            hist_dict['loss'].append(loss.item())\n",
    "            hist_dict['val_loss'].append(val_loss_mean)\n",
    "            hist_dict['val_acc'].append(val_acc)\n",
    "\n",
    "            print('Epoch: {}/{}...'.format(epoch+1, n_epochs),\n",
    "                  'Step: {}...'.format(step_count),\n",
    "                  'Loss: {:.6f}...'.format(loss.item()),\n",
    "                  'Val Loss: {:.6f}...'.format(val_loss_mean),\n",
    "                  'Val Acc: {:.6f}'.format(val_acc))\n",
    "\n",
    "            if val_loss_min is None:\n",
    "                val_loss_min = val_loss_mean\n",
    "\n",
    "            if val_loss_mean <= val_loss_min:\n",
    "                print('Validation loss decreased ({:.6f} --> {:.6f}). Saving model...'.format(val_loss_min, val_loss_mean))\n",
    "                torch.save(model.state_dict(), MODEL_PATH)\n",
    "                val_loss_min = val_loss_mean\n",
    "            \n",
    "        step_count += 1\n",
    "    \n",
    "    seconds = int(timeit.default_timer() - start)\n",
    "    minutes = seconds // 60\n",
    "    print(f'Epoch: {epoch + 1}... Loss: {loss.item():.6f}... Time: {minutes}:{seconds % 60}')"
   ]
  },
  {
   "cell_type": "markdown",
   "metadata": {},
   "source": [
    "### Evaluate Model"
   ]
  },
  {
   "cell_type": "code",
   "execution_count": 9,
   "metadata": {},
   "outputs": [
    {
     "data": {
      "image/png": "[encoded data removed]",
      "text/plain": [
       "<Figure size 432x288 with 1 Axes>"
      ]
     },
     "metadata": {
      "needs_background": "light"
     },
     "output_type": "display_data"
    }
   ],
   "source": [
    "plt.plot(hist_dict['steps'], hist_dict['loss'], 'bo', label='Training')\n",
    "plt.plot(hist_dict['steps'], hist_dict['val_loss'], 'b', label='Validation')\n",
    "plt.xlabel('Steps')\n",
    "plt.ylabel('Loss')\n",
    "plt.legend()\n",
    "plt.show()"
   ]
  },
  {
   "cell_type": "code",
   "execution_count": 10,
   "metadata": {},
   "outputs": [
    {
     "data": {
      "image/png": "[encoded data removed]",
      "text/plain": [
       "<Figure size 432x288 with 1 Axes>"
      ]
     },
     "metadata": {
      "needs_background": "light"
     },
     "output_type": "display_data"
    }
   ],
   "source": [
    "plt.plot(hist_dict['steps'], hist_dict['val_acc'], 'b', label='Validation')\n",
    "plt.xlabel('Steps')\n",
    "plt.ylabel('Accuracy')\n",
    "plt.legend()\n",
    "plt.show()"
   ]
  },
  {
   "cell_type": "code",
   "execution_count": 8,
   "metadata": {},
   "outputs": [
    {
     "data": {
      "text/plain": [
       "<All keys matched successfully>"
      ]
     },
     "execution_count": 8,
     "metadata": {},
     "output_type": "execute_result"
    }
   ],
   "source": [
    "torch.save(model.state_dict(), MODEL_PATH2)\n",
    "model = GruWordTokenClassifier(\n",
    "    vocab_size=len(TEXT.vocab), hidden_size=512, num_layers=3,\n",
    "    output_size=len(AUTHORS)+1, drop_prob=0.5, is_bidir=False).to(DEVICE)\n",
    "model.load_state_dict(torch.load(MODEL_PATH2))"
   ]
  },
  {
   "cell_type": "code",
   "execution_count": 9,
   "metadata": {},
   "outputs": [
    {
     "data": {
      "application/vnd.jupyter.widget-view+json": {
       "model_id": "9cb91d7368d9451a93851f7cbf3dcdf9",
       "version_major": 2,
       "version_minor": 0
      },
      "text/plain": [
       "HBox(children=(IntProgress(value=0, max=609), HTML(value='')))"
      ]
     },
     "metadata": {},
     "output_type": "display_data"
    },
    {
     "name": "stdout",
     "output_type": "stream",
     "text": [
      "\n",
      "0.8447562018819503\n"
     ]
    }
   ],
   "source": [
    "def test(model, tt_iter):\n",
    "    acc = 0\n",
    "    \n",
    "    model.eval()\n",
    "    for data in tqdm_notebook(tt_iter):\n",
    "        with torch.no_grad():\n",
    "            inputs, labels = data.text.to(DEVICE), data.label.to(DEVICE)\n",
    "            output, hidden = model(inputs)\n",
    "            acc += (output.argmax(1) == labels).sum().item()\n",
    "    model.train()\n",
    "    \n",
    "    return acc / len(tt_iter.dataset.examples)\n",
    "\n",
    "print(test(model, test_iter))"
   ]
  },
  {
   "cell_type": "code",
   "execution_count": 7,
   "metadata": {},
   "outputs": [
    {
     "data": {
      "application/vnd.jupyter.widget-view+json": {
       "model_id": "356d6273e33f40559906c01d6beb2e7d",
       "version_major": 2,
       "version_minor": 0
      },
      "text/plain": [
       "HBox(children=(IntProgress(value=0, max=609), HTML(value='')))"
      ]
     },
     "metadata": {},
     "output_type": "display_data"
    },
    {
     "name": "stdout",
     "output_type": "stream",
     "text": [
      "\n",
      "0.8247733105218135\n"
     ]
    }
   ],
   "source": [
    "model_loaded = GruWordTokenClassifier(\n",
    "    vocab_size=len(TEXT.vocab), hidden_size=512, num_layers=3,\n",
    "    output_size=len(AUTHORS)+1, drop_prob=0.5, is_bidir=False).to(DEVICE)\n",
    "model_loaded.load_state_dict(torch.load(MODEL_PATH))\n",
    "\n",
    "print(test(model_loaded, test_iter))"
   ]
  }
 ],
 "metadata": {
  "kernelspec": {
   "display_name": "Python 3",
   "language": "python",
   "name": "python3"
  },
  "language_info": {
   "codemirror_mode": {
    "name": "ipython",
    "version": 3
   },
   "file_extension": ".py",
   "mimetype": "text/x-python",
   "name": "python",
   "nbconvert_exporter": "python",
   "pygments_lexer": "ipython3",
   "version": "3.7.5"
  }
 },
 "nbformat": 4,
 "nbformat_minor": 2
}
